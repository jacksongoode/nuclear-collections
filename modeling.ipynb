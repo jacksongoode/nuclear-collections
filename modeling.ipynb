{
 "cells": [
  {
   "cell_type": "code",
   "execution_count": null,
   "metadata": {},
   "outputs": [],
   "source": [
    "import json\n",
    "\n",
    "from bertopic import BERTopic\n",
    "import spacy\n",
    "!python3 -m spacy download en_core_web_sm\n",
    "nlp = spacy.load('en_core_web_sm')"
   ]
  },
  {
   "cell_type": "code",
   "execution_count": null,
   "metadata": {},
   "outputs": [],
   "source": [
    "def preprocess(titles):\n",
    "    clean_titles = []\n",
    "    for title in titles:\n",
    "        # Remove numbers\n",
    "        title = ''.join([i for i in title if not i.isdigit()])\n",
    "\n",
    "        # Tokenize and remove stop words and punctuation\n",
    "        doc = nlp(title)\n",
    "        tokens = [token.text for token in doc if not token.is_stop and not token.is_punct]\n",
    "\n",
    "        # Join the tokens back into a string\n",
    "        clean_title = ' '.join(tokens)\n",
    "\n",
    "        clean_titles.append(clean_title)\n",
    "\n",
    "    return clean_titles"
   ]
  },
  {
   "cell_type": "code",
   "execution_count": null,
   "metadata": {},
   "outputs": [],
   "source": [
    "# Local example and process\n",
    "docs = json.load(open('docs/2023-01-01_2023-04-30_docs.json', 'r'))\n",
    "titles = [doc['title'] for doc in docs]\n",
    "titles = preprocess(titles)"
   ]
  },
  {
   "cell_type": "code",
   "execution_count": null,
   "metadata": {},
   "outputs": [],
   "source": [
    "topic_model = BERTopic()\n",
    "topics, probs = topic_model.fit_transform(titles)\n",
    "topic_model.visualize_barchart(n_words=10, width=200, height=400)"
   ]
  },
  {
   "cell_type": "code",
   "execution_count": null,
   "metadata": {},
   "outputs": [],
   "source": [
    "topic_model.visualize_topics()"
   ]
  }
 ],
 "metadata": {
  "kernelspec": {
   "display_name": "nuclear-collections",
   "language": "python",
   "name": "python3"
  },
  "language_info": {
   "codemirror_mode": {
    "name": "ipython",
    "version": 3
   },
   "file_extension": ".py",
   "mimetype": "text/x-python",
   "name": "python",
   "nbconvert_exporter": "python",
   "pygments_lexer": "ipython3",
   "version": "3.10.6"
  },
  "orig_nbformat": 4
 },
 "nbformat": 4,
 "nbformat_minor": 2
}
