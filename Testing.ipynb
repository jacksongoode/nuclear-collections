{
 "cells": [
  {
   "cell_type": "code",
   "execution_count": 2,
   "id": "248c0d8a-e8df-4ad2-bfe0-3900c6b15f74",
   "metadata": {
    "tags": []
   },
   "outputs": [],
   "source": [
    "import requests\n",
    "import json\n",
    "import time\n",
    "import math\n",
    "from datetime import datetime, timedelta\n",
    "\n",
    "from warcio.archiveiterator import ArchiveIterator\n",
    "from hanzo import warctools\n",
    "from pprint import PrettyPrinter\n",
    "pp = PrettyPrinter(indent=4)"
   ]
  },
  {
   "cell_type": "code",
   "execution_count": 3,
   "id": "2e8f4b6b-8577-4552-9376-15e410610cd9",
   "metadata": {
    "tags": []
   },
   "outputs": [],
   "source": [
    "url = \"https://archive.org/download/NRC-20230202024344-crawl339/NRC-20230202024344-00227.warc.os.cdx.gz\""
   ]
  },
  {
   "cell_type": "code",
   "execution_count": null,
   "id": "616b004b-9ab5-4c7c-bd7e-7bc783f34f02",
   "metadata": {
    "tags": []
   },
   "outputs": [],
   "source": [
    "with open('./NRC-20230209130341-00125.warc', 'rb') as stream:\n",
    "    for record in ArchiveIterator(stream):\n",
    "        if record.rec_type == 'response':\n",
    "            # print(record.rec_headers.get_header('WARC-Target-URI'))\n",
    "            pp.pprint(record.__dict__)"
   ]
  },
  {
   "cell_type": "code",
   "execution_count": null,
   "id": "4d470d08-efde-48b3-b8ce-03c9c11a4dff",
   "metadata": {
    "tags": []
   },
   "outputs": [],
   "source": [
    "from warcio.archiveiterator import ArchiveIterator\n",
    "\n",
    "with open(url, 'rb') as stream:\n",
    "    for record in ArchiveIterator(stream):\n",
    "        if record.rec_type == 'response':\n",
    "            print(record.rec_headers.get_header('WARC-Target-URI'))"
   ]
  },
  {
   "cell_type": "code",
   "execution_count": 4,
   "id": "d839a2f7-d572-4d2b-8e3e-6a45177527bc",
   "metadata": {
    "tags": []
   },
   "outputs": [],
   "source": [
    "url = 'https://adams.nrc.gov/wba/services/search/simple'\n",
    "\n",
    "headers = {\n",
    "    'User-Agent': 'Mozilla/5.0 (Macintosh; Intel Mac OS X 10.15; rv:109.0) Gecko/20100101 Firefox/112.0',\n",
    "    'Accept': '*/*',\n",
    "    'Accept-Language': 'en-US,en;q=0.5',\n",
    "    'Accept-Encoding': 'gzip, deflate, br',\n",
    "    'X-Requested-With': 'XMLHttpRequest',\n",
    "    'Content-Type': 'application/x-www-form-urlencoded; charset=UTF-8',\n",
    "    'Origin': 'https://adams.nrc.gov',\n",
    "    'DNT': '1',\n",
    "    'Connection': 'keep-alive',\n",
    "    'Referer': 'https://adams.nrc.gov/wba/',\n",
    "    'Sec-Fetch-Dest': 'empty',\n",
    "    'Sec-Fetch-Mode': 'cors',\n",
    "    'Sec-Fetch-Site': 'same-origin'\n",
    "}\n",
    "\n",
    "data = {\n",
    "    'start': '0',\n",
    "    'query': f'SELECT DocumentTitle, AccessionNumber, DocumentDate, PublishDatePARS FROM Document WHERE DocumentType IS NOT NULL',\n",
    "    'initial': 'true',\n",
    "    # 'sort': '$size',\n",
    "    # 'dir': 'ASC',\n",
    "    'fieldSet': 'pars',\n",
    "    'formatSet': 'default',\n",
    "    'limit': '1000',\n",
    "    'queryParams': '{}',\n",
    "    'dataProviderId': 'ce_bp8os_repository',\n",
    "    'operationId': 'advanced_search',\n",
    "    'filters': '{\"operation\": \"and\", \"operand\": []}'\n",
    "}\n",
    "\n",
    "cookies = {\n",
    "    'Cookie': 'ys-folder-view-tab-tree-holder=o%3Acollapsed%3Db%253A0; bm_sv=0688099B00A6C66EACAC987B6BECA3DB~YAAQJq08F80Eb6eHAQAAEa9/qhMYgwTLfMaIDwcEFTIx4oFAlzHxGMacl7RcyVWna13y2qwSkawES/g9QLYNg13ZG17235pk99E4/SpkT92HJITTONfv+iVheVmPCATs0CSmKdWxweMtAmLYp3HWighSc8+FbcibzRoBcJDtF0rOf+purNdKCdmwUhSWct6YFfNvI7IHUYy4PJ7K0OJJ658pERKUYQ5d9dU6qCmh82f2nEHTRBnQiYDuDns1Hw==~1; JSESSIONID=0000Ks0c6ZOMioQ-plvl9X9_qej:-1; ak_bmsc=27622EFEB2E5ABE08309E4F14A5C3044~000000000000000000000000000000~YAAQJq08F+cDb6eHAQAAPaF/qhNosQufgDyaivBTTjVG9LNi0tJjyXmEDxvXol+WdzmFwimlf6QaenPkAOGuIMyJj8RqGzdzY4MT/iMGtMFvdgv4q7LMb8LeA0EJmtN7CTZWGEXUFr2kEiRXMGt1MLqRoRYyB6JU5XBfctoD43tHH/khaSYY+tmNpPUYqEstYlLwjg3aqx0aJD3h0PN8elSv3dV2GpQMGJiL/gvecaQ/fPHuUD4g/qGKMmD2QKjRiE8o3reeZnRgKLaUmJAj2eROXtnbu/PfH/xWyG2jlfgKmknDH6FM/KdTBARFmL1U4M/eWsF+QD8gLE7LOEbtb7aUjllAz+MGWPM7KKFGJ69IehfcS1lRoCoQjR+LNw=='\n",
    "}\n",
    "\n",
    "def offset_data(data, start, end):\n",
    "    start = start.strftime('%Y%m%dT%H%M%S%Z') + 'Z'\n",
    "    end = end.strftime('%Y%m%dT%H%M%S%Z') + 'Z'\n",
    "    print(start, end)\n",
    "    data['query'] = f'SELECT * FROM Document WHERE (PublishDatePARS > {start}) AND (PublishDatePARS < {end}) AND DocumentType IS NOT NULL'\n",
    "    \n",
    "    return data\n",
    "\n",
    "def paginate(start, end, slide, headers, data, cookies):\n",
    "    start = datetime.strptime(start, '%Y-%m-%d')\n",
    "    end = datetime.strptime(end, '%Y-%m-%d')\n",
    "    \n",
    "    rel_start = start\n",
    "    time_difference = end.date() - start.date()\n",
    "    days = math.ceil(time_difference.days / slide)\n",
    "    \n",
    "    full_json = []\n",
    "    mod_data = data.copy()\n",
    "    \n",
    "    for _ in range(days):\n",
    "        # Update rel end\n",
    "        rel_end = rel_start + timedelta(days=slide)    \n",
    "\n",
    "        mod_data = offset_data(data, rel_start, rel_end)\n",
    "        response = requests.post(url, headers=headers, data=mod_data, cookies=cookies)\n",
    "        try:\n",
    "            resp_json = json.loads(response.text)\n",
    "        except Exception as e:\n",
    "            print(response.text)\n",
    "            raise(e)\n",
    "        \n",
    "        docs = resp_json['docs']\n",
    "        \n",
    "        if len(docs) > 0:\n",
    "            print(f\"Appended {len(docs)} to full!\")\n",
    "            full_json.extend(resp_json['docs'])\n",
    "        else:\n",
    "            print('Error', resp_json)\n",
    "\n",
    "        # Update rel start\n",
    "        rel_start = rel_start + timedelta(days=slide)\n",
    "        \n",
    "    return full_json"
   ]
  },
  {
   "cell_type": "code",
   "execution_count": 5,
   "id": "61fbc84c-c4b9-4e55-b015-8f0598964f93",
   "metadata": {
    "tags": []
   },
   "outputs": [
    {
     "name": "stdout",
     "output_type": "stream",
     "text": [
      "20230101T000000Z 20230103T000000Z\n",
      "Error {'docs': [], 'total': 0, 'messages': ['No results found.']}\n",
      "20230103T000000Z 20230105T000000Z\n",
      "Appended 198 to full!\n"
     ]
    }
   ],
   "source": [
    "docs_json = paginate('2023-01-01', '2023-01-05', 2, headers, data, cookies)"
   ]
  },
  {
   "cell_type": "code",
   "execution_count": null,
   "id": "35cc72d1-c0c0-42e9-8de9-71c7501ebeeb",
   "metadata": {
    "tags": []
   },
   "outputs": [],
   "source": [
    "len(docs_json)"
   ]
  },
  {
   "cell_type": "code",
   "execution_count": null,
   "id": "e6785277-d52b-406b-a30b-3515cc56a98d",
   "metadata": {
    "tags": []
   },
   "outputs": [],
   "source": [
    "with open('docs.json', 'w') as file:\n",
    "    json.dump(docs_json, file)"
   ]
  },
  {
   "cell_type": "code",
   "execution_count": null,
   "id": "e32db99e-d1a1-4e9b-84c4-63d8874fd715",
   "metadata": {
    "tags": []
   },
   "outputs": [],
   "source": [
    "doc_titles = [doc[\"title\"] for doc in docs_json]"
   ]
  },
  {
   "cell_type": "code",
   "execution_count": null,
   "id": "71a0729e-1c76-4128-b239-ae08d332c0ca",
   "metadata": {
    "tags": []
   },
   "outputs": [],
   "source": [
    "pp.pprint(sorted(doc_titles))"
   ]
  }
 ],
 "metadata": {
  "kernelspec": {
   "display_name": "Python 3 (ipykernel)",
   "language": "python",
   "name": "python3"
  },
  "language_info": {
   "codemirror_mode": {
    "name": "ipython",
    "version": 3
   },
   "file_extension": ".py",
   "mimetype": "text/x-python",
   "name": "python",
   "nbconvert_exporter": "python",
   "pygments_lexer": "ipython3",
   "version": "3.10.6"
  }
 },
 "nbformat": 4,
 "nbformat_minor": 5
}
