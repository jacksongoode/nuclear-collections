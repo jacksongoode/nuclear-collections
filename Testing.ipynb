{
 "cells": [
  {
   "cell_type": "code",
   "execution_count": 0,
   "metadata": {
    "application/vnd.databricks.v1+cell": {
     "cellMetadata": {
      "byteLimit": 2048000,
      "rowLimit": 10000
     },
     "inputWidgets": {},
     "nuid": "3631a96b-ae28-443c-ac2e-275004697c21",
     "showTitle": false,
     "title": ""
    },
    "tags": []
   },
   "outputs": [],
   "source": [
    "import requests\n",
    "import json\n",
    "import time\n",
    "import math\n",
    "from datetime import datetime, timedelta\n",
    "\n",
    "from pprint import PrettyPrinter\n",
    "pp = PrettyPrinter(indent=4)"
   ]
  },
  {
   "cell_type": "code",
   "execution_count": 0,
   "metadata": {
    "application/vnd.databricks.v1+cell": {
     "cellMetadata": {
      "byteLimit": 2048000,
      "rowLimit": 10000
     },
     "inputWidgets": {},
     "nuid": "25363ec1-4751-40bf-96f8-617c00cacca6",
     "showTitle": false,
     "title": ""
    },
    "tags": []
   },
   "outputs": [],
   "source": [
    "url = 'https://adams.nrc.gov/wba/services/search/simple'\n",
    "\n",
    "headers = {\n",
    "    'User-Agent': 'Mozilla/5.0 (Macintosh; Intel Mac OS X 10.15; rv:109.0) Gecko/20100101 Firefox/112.0',\n",
    "    'Accept': '*/*',\n",
    "    'Accept-Language': 'en-US,en;q=0.5',\n",
    "    'Accept-Encoding': 'gzip, deflate, br',\n",
    "    'X-Requested-With': 'XMLHttpRequest',\n",
    "    'Content-Type': 'application/x-www-form-urlencoded; charset=UTF-8',\n",
    "    'Origin': 'https://adams.nrc.gov',\n",
    "    'DNT': '1',\n",
    "    'Connection': 'keep-alive',\n",
    "    'Referer': 'https://adams.nrc.gov/wba/',\n",
    "    'Sec-Fetch-Dest': 'empty',\n",
    "    'Sec-Fetch-Mode': 'cors',\n",
    "    'Sec-Fetch-Site': 'same-origin'\n",
    "}\n",
    "\n",
    "data = {\n",
    "    'start': '0',\n",
    "    'query': f'SELECT DocumentTitle, AccessionNumber, DocumentDate, PublishDatePARS FROM Document WHERE DocumentType IS NOT NULL',\n",
    "    'initial': 'true',\n",
    "    # 'sort': '$size',\n",
    "    # 'dir': 'ASC',\n",
    "    'fieldSet': 'pars',\n",
    "    'formatSet': 'default',\n",
    "    'limit': '1000',\n",
    "    'queryParams': '{}',\n",
    "    'dataProviderId': 'ce_bp8os_repository',\n",
    "    'operationId': 'advanced_search',\n",
    "    'filters': '{\"operation\": \"and\", \"operand\": []}'\n",
    "}\n",
    "\n",
    "cookies = {\n",
    "    'Cookie': 'ys-folder-view-tab-tree-holder=o%3Acollapsed%3Db%253A0; bm_sv=0688099B00A6C66EACAC987B6BECA3DB~YAAQJq08F80Eb6eHAQAAEa9/qhMYgwTLfMaIDwcEFTIx4oFAlzHxGMacl7RcyVWna13y2qwSkawES/g9QLYNg13ZG17235pk99E4/SpkT92HJITTONfv+iVheVmPCATs0CSmKdWxweMtAmLYp3HWighSc8+FbcibzRoBcJDtF0rOf+purNdKCdmwUhSWct6YFfNvI7IHUYy4PJ7K0OJJ658pERKUYQ5d9dU6qCmh82f2nEHTRBnQiYDuDns1Hw==~1; JSESSIONID=0000Ks0c6ZOMioQ-plvl9X9_qej:-1; ak_bmsc=27622EFEB2E5ABE08309E4F14A5C3044~000000000000000000000000000000~YAAQJq08F+cDb6eHAQAAPaF/qhNosQufgDyaivBTTjVG9LNi0tJjyXmEDxvXol+WdzmFwimlf6QaenPkAOGuIMyJj8RqGzdzY4MT/iMGtMFvdgv4q7LMb8LeA0EJmtN7CTZWGEXUFr2kEiRXMGt1MLqRoRYyB6JU5XBfctoD43tHH/khaSYY+tmNpPUYqEstYlLwjg3aqx0aJD3h0PN8elSv3dV2GpQMGJiL/gvecaQ/fPHuUD4g/qGKMmD2QKjRiE8o3reeZnRgKLaUmJAj2eROXtnbu/PfH/xWyG2jlfgKmknDH6FM/KdTBARFmL1U4M/eWsF+QD8gLE7LOEbtb7aUjllAz+MGWPM7KKFGJ69IehfcS1lRoCoQjR+LNw=='\n",
    "}\n",
    "\n",
    "def offset_data(data, start, end):\n",
    "    start = start.strftime('%Y%m%dT%H%M%S%Z') + 'Z'\n",
    "    end = end.strftime('%Y%m%dT%H%M%S%Z') + 'Z'\n",
    "    print(start, end)\n",
    "    data['query'] = f'SELECT * FROM Document WHERE (PublishDatePARS > {start}) AND (PublishDatePARS < {end}) AND DocumentType IS NOT NULL'\n",
    "    \n",
    "    return data\n",
    "\n",
    "def paginate(start, end, slide, headers, data, cookies):\n",
    "    start = datetime.strptime(start, '%Y-%m-%d')\n",
    "    end = datetime.strptime(end, '%Y-%m-%d')\n",
    "    \n",
    "    rel_start = start\n",
    "    time_difference = end.date() - start.date()\n",
    "    days = math.ceil(time_difference.days / slide)\n",
    "    \n",
    "    full_json = []\n",
    "    mod_data = data.copy()\n",
    "    \n",
    "    for _ in range(days):\n",
    "        # Update rel end\n",
    "        rel_end = rel_start + timedelta(days=slide)    \n",
    "\n",
    "        mod_data = offset_data(data, rel_start, rel_end)\n",
    "        response = requests.post(url, headers=headers, data=mod_data, cookies=cookies)\n",
    "        try:\n",
    "            resp_json = json.loads(response.text)\n",
    "        except Exception as e:\n",
    "            print(response.text)\n",
    "            raise(e)\n",
    "        \n",
    "        docs = resp_json['docs']\n",
    "        \n",
    "        if len(docs) > 0:\n",
    "            print(f\"Appended {len(docs)} to full!\")\n",
    "            full_json.extend(resp_json['docs'])\n",
    "        else:\n",
    "            print('Error', resp_json)\n",
    "\n",
    "        # Update rel start\n",
    "        rel_start = rel_start + timedelta(days=slide)\n",
    "        \n",
    "    return full_json"
   ]
  },
  {
   "cell_type": "code",
   "execution_count": 0,
   "metadata": {
    "application/vnd.databricks.v1+cell": {
     "cellMetadata": {
      "byteLimit": 2048000,
      "rowLimit": 10000
     },
     "inputWidgets": {},
     "nuid": "daf84af7-a7d3-4228-b153-42d8307d51ca",
     "showTitle": false,
     "title": ""
    },
    "tags": []
   },
   "outputs": [
    {
     "output_type": "stream",
     "name": "stdout",
     "output_type": "stream",
     "text": [
      "20230401T000000Z 20230403T000000Z\nError {'docs': [], 'total': 0, 'messages': ['No results found.']}\n20230403T000000Z 20230405T000000Z\nAppended 314 to full!\n"
     ]
    }
   ],
   "source": [
    "docs_json = paginate('2023-04-01', '2023-04-05', 2, headers, data, cookies)"
   ]
  },
  {
   "cell_type": "code",
   "execution_count": 0,
   "metadata": {
    "application/vnd.databricks.v1+cell": {
     "cellMetadata": {
      "byteLimit": 2048000,
      "rowLimit": 10000
     },
     "inputWidgets": {},
     "nuid": "fff47bbf-536e-4859-b1b7-97962eeb6608",
     "showTitle": false,
     "title": ""
    },
    "tags": []
   },
   "outputs": [
    {
     "output_type": "stream",
     "name": "stdout",
     "output_type": "stream",
     "text": [
      "Out[18]: 314"
     ]
    }
   ],
   "source": [
    "len(docs_json)"
   ]
  },
  {
   "cell_type": "code",
   "execution_count": 0,
   "metadata": {
    "application/vnd.databricks.v1+cell": {
     "cellMetadata": {},
     "inputWidgets": {},
     "nuid": "c850aaf4-e992-4522-9ee3-bc8d67b56a24",
     "showTitle": false,
     "title": ""
    },
    "tags": []
   },
   "outputs": [],
   "source": [
    "with open('docs.json', 'w') as file:\n",
    "    json.dump(docs_json, file)"
   ]
  },
  {
   "cell_type": "code",
   "execution_count": 0,
   "metadata": {
    "application/vnd.databricks.v1+cell": {
     "cellMetadata": {
      "byteLimit": 2048000,
      "rowLimit": 10000
     },
     "inputWidgets": {},
     "nuid": "2f9442e5-5594-41d8-91a2-3a57ff5b07d1",
     "showTitle": false,
     "title": ""
    },
    "tags": []
   },
   "outputs": [],
   "source": [
    "doc_titles = [doc[\"title\"] for doc in docs_json]"
   ]
  },
  {
   "cell_type": "code",
   "execution_count": 0,
   "metadata": {
    "application/vnd.databricks.v1+cell": {
     "cellMetadata": {
      "byteLimit": 2048000,
      "rowLimit": 10000
     },
     "inputWidgets": {},
     "nuid": "9b06d4e0-193b-4bde-b6ca-ce59dd0f9133",
     "showTitle": false,
     "title": ""
    },
    "tags": []
   },
   "outputs": [
    {
     "output_type": "stream",
     "name": "stdout",
     "output_type": "stream",
     "text": [
      "[   '03-27-23 - Letter to Honorable Cathy McMorris Rodgers, et al., from Chair '\n    'Hanson re: Submits the February 2023 Monthly Status Report on the U.S. '\n    'NRC Activities and Expenditures of Unobligated Carryover Funds '\n    'Appropriated from the Nuclear Waste Fund',\n    '04/05/2023 Presubmittal Meeting with Arizona Public Service Company '\n    'Regarding Planned Containment Temperature and Safety Injection Tank '\n    'Volume License Amendment Request(s) at Palo Verde Nuclear Generating '\n    'Station, Units 1, 2, and 3 (EPID L-2023-LRM-0016)',\n    '04/12/2023 Information Meeting with Federally-Recognized Tribes Regarding '\n    'the Proposed Rule for Renewing Nuclear Power Plant Operating Licenses  '\n    'Environmental Review',\n    '04/13/2023 Meeting with NextEra Energy/Florida Power & Light Company to '\n    'Discuss the St. Lucie Plant, Units 1 and 2 and Turkey Point Nuclear '\n    'Generating, Units 3 and 4 Improved Technical Specifications License '\n    'Amendment Requests.',\n    '04/27/2023 Pre-application Meeting for Submittal of a Revision to '\n    'BWRVIP-316, Reactor Pressure Vessel Aging Management Evaluation for '\n    'Extended Operations',\n    '05/02/2023 Decommissioning Lessons Learned Public Meeting Workshop',\n    '05/04/2023 Notice of Meeting With Southern Nuclear Operating Company',\n    '05/11/2023 Notice of Meeting With Southern Nuclear Operating Company',\n    '05/18/2023 Notice of Meeting With Southern Nuclear Operating Company',\n    '05/25/2023 Notice of Meeting With Southern Nuclear Operating Company',\n    '2022 All Non-Major Uranium Recovery, Decommissioning, and Federal '\n    'Facility Material License Applications Received',\n    '2022 HQ EEO Program Poster',\n    '2022 Records Management Self-Assessment - SURVEY LINK.',\n    '2022 Records Management Self-Assessment.',\n    '2022-OPM-FEVS-AES-NRC',\n    '2023 MSR Letter Alonso Carus Iron Works',\n    '2023 MSR Letter Cardinal Health',\n    '2023 MSR Letter Central Med Campus UPR',\n    '2023 MSR Letter Recinto Universitario de Mayaguez',\n    '2023 MSR Letter University of Puerto Rico Cayey Campus',\n    '2023 MSR Letter University of Puerto Rico Piedras Campus',\n    '2023 MSR Letter WR Non Destructive',\n    '2023/03/17 NRR E-mail Capture - Hope Creek, Salem 1 and 2 - Evacuation '\n    'Time Estimate Review (EPID L-2022-LRO-0108)',\n    '2023/03/20 NRR E-mail Capture - Acceptance Review for Beaver Valley 1 & 2 '\n    'Exemption from Specific Provisions in 10 CFR 50 Appendix H (EPID '\n    'L-2023-LLA-0036)',\n    '2023/03/20 NRR E-mail Capture - Draft Safety Evaluation Related to '\n    'TerraPower, LLC Quality Assurance Topical Report TP-QA-PD-0001, '\n    'TerraPower QA Program Description, Revision 13 and 14 (EPID '\n    'L-2022-TOP-0054)',\n    '2023/03/20 NRR E-mail Capture - X Energy, LLC - Safety Evaluation of '\n    'Xe-100 Topical Report, TRISO-X Pebble Fuel Qualification Methodology, '\n    'Revision No. 3 (EPID NO. L-2021-TOP-0011)',\n    '2023/03/21 NRR E-mail Capture - Abilene Christian University - Audit '\n    'Questions Regarding ACU CP Chapters 1, 5, 8, 9 (Except 9.2 and 9.6), 10, '\n    '11, 12, 14-18, and General Topics (Batch 1)',\n    '2023/03/21 NRR E-mail Capture - Acceptance Review for Calvert Cliffs Unit '\n    '1 - LAR to Modify the Long-Term Coupon Surveillance Program (EPID '\n    'L-2023-LLA-0023)',\n    '2023/03/21 NRR E-mail Capture - Acceptance review for Calvert Cliffs '\n    'Repair Replacement of Saltwater System Buried Piping (EPID '\n    'L-2023-LLR-0006)',\n    '2023/03/21 NRR E-mail Capture - Wolf Creek Generating Station Evacuation '\n    'Time Estimate Analysis Review (EPID L-2022-LRO-0125)',\n    '632594 Amendment No. 20 for Cardinal Health 414, LLC to License No. '\n    '34-32840-01',\n    '632594 Cover Letter for Cardinal Health 414, LLC to License No. '\n    '34-32840-01',\n    '632622 Amendment No. 3 for Pharmacia & Upjohn Company LLC to License No. '\n    '21-32848-04',\n    '632622 Cover Letter for Pharmacia & Upjohn Company LLC to License No. '\n    '21-32848-04',\n    '633240 Amendment No. 6 for Indian Creek Therapeutics, LLC to License No. '\n    '13-32783-01',\n    '633240 Cover Letter for Indian Creek Therapeutics, LLC to License No. '\n    '13-32783-01',\n    '633240 RAI 03/10/2023 for Indian Creek Therapeutics, LLC to License No. '\n    '13-32783-01',\n    '633240 RAI 03/20/2023 for Indian Creek Therapeutics, LLC to License No. '\n    '13-32783-01',\n    \"633324 Amendment No. 8 for Aggarwall & Associates, M.D.'s, P.C. to \"\n    'License No. 21-32405-01',\n    \"633324 Cover Letter for Aggarwall & Associates, M.D.'s, P.C. to License \"\n    'No. 21-32405-01',\n    \"633324 Deemed Timely Letter for Aggarwall & Associates, M.D.'s, P.C. to \"\n    'License No. 21-32405-01',\n    \"633324 RAI 02-27-2023 for Aggarwall & Associates, M.D.'s, P.C. to License \"\n    'No. 21-32405-01',\n    \"633324 RAI 12-23-2022 for Aggarwall & Associates, M.D.'s, P.C. to License \"\n    'No. 21-32405-01',\n    '633341 Additional Information Email dtd 01-12-2023 for Freeman Neosho '\n    'Hospital to License No. 24-26789-01',\n    '633341 Amendment No. 10 for Freeman Neosho Hospital to License No. '\n    '24-26789-01',\n    '633341 Cover Letter for Freeman Neosho Hospital to License No. '\n    '24-26789-01',\n    '633341 Deemed Timely Letter for Freeman Neosho Hospital to License No. '\n    '24-26789-01',\n    '633341 RAI 01-03-2023 for Freeman Neosho Hospital to License No. '\n    '24-26789-01',\n    '633341 RAI 01-12-2023 for Freeman Neosho Hospital to License No. '\n    '24-26789-01',\n    '634536 Cover Letter for Wayne State University to License No. 21-00741-08',\n    '634715 Additional Information Request for Ascension St. Vincent Hospital '\n    'to License No. 13-00133-02',\n    'ACI Tygart Valley, NRC Form 591M Part 1, Inspection Report Number '\n    '03038553/2023001',\n    'AECOM Technical Services, Inc.; Acceptance of Notification Letter, Mail '\n    'Control No. 633625',\n    'ARC Clean Technology (ARC), Affidavit and Request for Withholding from '\n    'Public Disclosure (10 CFR 2.390)',\n    'ARCADIS U.S., Inc.; Notification of Completion of Work; License '\n    '05-35250-01; Docket 030-38846; Control 634946',\n    'ASME Section III Membership Update',\n    'ASnyder, NRC Email from TDevik, Energysolutions, Re: Three Mile Island, '\n    'Unit 2 -Response regarding MC&A TS change, modification',\n    'Actions Received January 1, 2023 through March 31, 2023',\n    'Amendment No. 9 to Indemnity Agreement No. B-62 for La Crosse Boiling '\n    'Water Reactor',\n    'American Centrifuge Operating - Oak Ridge Special Inspection Report '\n    '07007004 2023401 And Apparent Violations',\n    'Analytical Report for NRC High-Burnup Fuel Specimens',\n    'Annual Follow-up of Status of License Activity - DCS Corporation, Docket '\n    'No. 040-38362, License No. SUB-1603',\n    \"Applicants' Redacted Post-Hearing Statement of Position on Michigan \"\n    'Attorney General Contentions',\n    'Application For Amendment No. 13 To The Model No. Magnastor® Storage Cask '\n    '– Request For Additional Information',\n    'Ashford Presbyterian Hospital, NRC Form 591M Part 1, Inspection Report '\n    'Number 03009858/2023001',\n    'Avera McKennan Hosp., Report per 10 CFR 35.3045(d) EN 56404, Report of '\n    'Medical Event',\n    'BWXT Nuclear Operations Group, Inc - Material Control and Accounting '\n    'Program Inspection Report 07000027/2023401',\n    'Beaver Valley Power Station, Units 1 and 2 - Information Request for the '\n    'Cyber Security Baseline Inspection; Notification to Perform Inspection '\n    '05000334/2023401 and 05000412/2023401',\n    'Belt Paving Inc, NRC Form 591M Part 1, Inspection Report Number '\n    '03034786/2023001',\n    'Byron, Baseline Security Inspection 05000454/2023401; and '\n    '05000455/2023401',\n    'CAMC Greenbrier Valley Medical Center, Inc. d/b/a Greenbrier Valley '\n    'Medical Center; License Amendment Cover Letter, Mail Control No. 634219',\n    'CAMC Greenbrier Valley Medical Center, Inc. d/b/a Greenbrier Valley '\n    'Medical Center; License Amendment No. 55, Mail Control No. 634219',\n    'CY 2022 Adequacy and Compatibility Status Chart (with Indicator Status)',\n    'Callaway [50-483], Single Positive Test Form Collected on 03/07/2022',\n    'Callaway [50-483], Single Positive Test Form Collected on 03/21/2022',\n    'Callaway [50-483], Single Positive Test Form Collected on 03/22/2022',\n    'Callaway [50-483], Single Positive Test Form Collected on 04/07/2022',\n    'Callaway [50-483], Single Positive Test Form Collected on 04/25/2022',\n    'Callaway [50-483], Single Positive Test Form Collected on 06/21/2022',\n    'Callaway [50-483], Single Positive Test Form Collected on 11/14/2022',\n    'Certificate of Compliance No. 9388, Revision No. 0',\n    \"Citizens for Fair Utility Regulation's Reply in Support of Petition for \"\n    'Leave to Intervene and Request for Adjudicatory Hearing',\n    'Civil Penalty Invoice EA-22-086, LES - Enclosure 3',\n    'Columbia Generating Station, Application To Revise Technical '\n    'Specifications To Adopt Tstf-541, \"Add Exceptions To Surveillance '\n    'Requirements For Valves And Dampers Locked In The Actuated Position\"',\n    'Comment (001) from Timothy J. Tate on behalf of Framatome on PR-170 and '\n    '171 - Revision of Fee Schedules; Fee Recovery for Fiscal Year 2023',\n    'Comment (002) from Brian Hunt on behalf of Honeywell International on '\n    'PR-170 and 171 - Revision of Fee Schedules; Fee Recovery for Fiscal Year '\n    '2023',\n    'Comment (003) from Dr. Jennifer L. Uhle on behalf of the Nuclear Energy '\n    'Institute on PR-170 and 171 - Revision of Fee Schedules; Fee Recovery for '\n    'Fiscal Year 2023',\n    'Comment (004) from Richard J. Freudenberger on behalf of BWXT Nuclear '\n    'Operations Group, Inc. - Lynchburg on PR-170 and 171 - Revision of Fee '\n    'Schedules; Fee Recovery for Fiscal Year 2023',\n    'Comment (005) from David M. Gullott on behalf of Constellation Energy '\n    'Generation, LLC on PR-170 and 171 - Revision of Fee Schedules; Fee '\n    'Recovery for Fiscal Year 2023',\n    'Comment (1251) of Annie McCombs on Notice of Intent To Conduct Scoping '\n    'Process and Prepare Environmental Impact Statement; Vistra Operations '\n    'Company LLC; Comanche Peak Nuclear Power Plant, Units 1 and 2',\n    'Comment (1252) of Ken Canty on Notice of Intent To Conduct Scoping '\n    'Process and Prepare Environmental Impact Statement; Vistra Operations '\n    'Company LLC; Comanche Peak Nuclear Power Plant, Units 1 and 2',\n    \"Comment (1253) of Deanne O'Donnell on Notice of Intent To Conduct Scoping \"\n    'Process and Prepare Environmental Impact Statement; Vistra Operations '\n    'Company LLC; Comanche Peak Nuclear Power Plant, Units 1 and 2',\n    'Comment (1254) of Karen Biesanz on Notice of Intent To Conduct Scoping '\n    'Process and Prepare Environmental Impact Statement; Vistra Operations '\n    'Company LLC; Comanche Peak Nuclear Power Plant, Units 1 and 2',\n    'Comment (1255) of Elizabeth de Padova on Notice of Intent To Conduct '\n    'Scoping Process and Prepare Environmental Impact Statement; Vistra '\n    'Operations Company LLC; Comanche Peak Nuclear Power Plant, Units 1 and 2',\n    'Comment (1256) of Yee Yean Lim on Notice of Intent To Conduct Scoping '\n    'Process and Prepare Environmental Impact Statement; Vistra Operations '\n    'Company LLC; Comanche Peak Nuclear Power Plant, Units 1 and 2',\n    'Comment (1257) of John Nelson on Notice of Intent To Conduct Scoping '\n    'Process and Prepare Environmental Impact Statement; Vistra Operations '\n    'Company LLC; Comanche Peak Nuclear Power Plant, Units 1 and 2',\n    'Comment (1258) of Cindy M Dutka on Notice of Intent To Conduct Scoping '\n    'Process and Prepare Environmental Impact Statement; Vistra Operations '\n    'Company LLC; Comanche Peak Nuclear Power Plant, Units 1 and 2',\n    'Comment (1259) of Maria Rua on Notice of Intent To Conduct Scoping '\n    'Process and Prepare Environmental Impact Statement; Vistra Operations '\n    'Company LLC; Comanche Peak Nuclear Power Plant, Units 1 and 2',\n    'Comment (1260) of Bart Ryan on Notice of Intent To Conduct Scoping '\n    'Process and Prepare Environmental Impact Statement; Vistra Operations '\n    'Company LLC; Comanche Peak Nuclear Power Plant, Units 1 and 2',\n    'Comment (1261) of Carolyn Shaffer on Notice of Intent To Conduct Scoping '\n    'Process and Prepare Environmental Impact Statement; Vistra Operations '\n    'Company LLC; Comanche Peak Nuclear Power Plant, Units 1 and 2',\n    'Comment (1262) of Lucy Duff on Notice of Intent To Conduct Scoping '\n    'Process and Prepare Environmental Impact Statement; Vistra Operations '\n    'Company LLC; Comanche Peak Nuclear Power Plant, Units 1 and 2',\n    'Comment (1263) of Aileen McEvoy on Notice of Intent To Conduct Scoping '\n    'Process and Prepare Environmental Impact Statement; Vistra Operations '\n    'Company LLC; Comanche Peak Nuclear Power Plant, Units 1 and 2',\n    'Comment (1264) of Marcia Halligan on Notice of Intent To Conduct Scoping '\n    'Process and Prepare Environmental Impact Statement; Vistra Operations '\n    'Company LLC; Comanche Peak Nuclear Power Plant, Units 1 and 2',\n    'Comment (1265) of Stephen Diamond on Notice of Intent To Conduct Scoping '\n    'Process and Prepare Environmental Impact Statement; Vistra Operations '\n    'Company LLC; Comanche Peak Nuclear Power Plant, Units 1 and 2',\n    'Comment (1266) of Angela Hughes on Notice of Intent To Conduct Scoping '\n    'Process and Prepare Environmental Impact Statement; Vistra Operations '\n    'Company LLC; Comanche Peak Nuclear Power Plant, Units 1 and 2',\n    'Comment (1267) of Terry Tedesco on Notice of Intent To Conduct Scoping '\n    'Process and Prepare Environmental Impact Statement; Vistra Operations '\n    'Company LLC; Comanche Peak Nuclear Power Plant, Units 1 and 2',\n    'Comment (1268) of Tami Linder on Notice of Intent To Conduct Scoping '\n    'Process and Prepare Environmental Impact Statement; Vistra Operations '\n    'Company LLC; Comanche Peak Nuclear Power Plant, Units 1 and 2',\n    'Comment (1269) of Peggy Fugate on Notice of Intent To Conduct Scoping '\n    'Process and Prepare Environmental Impact Statement; Vistra Operations '\n    'Company LLC; Comanche Peak Nuclear Power Plant, Units 1 and 2',\n    'Comment (1270) of Priscilla Drake on Notice of Intent To Conduct Scoping '\n    'Process and Prepare Environmental Impact Statement; Vistra Operations '\n    'Company LLC; Comanche Peak Nuclear Power Plant, Units 1 and 2',\n    'Comment (1271) of Dana Stewart on Notice of Intent To Conduct Scoping '\n    'Process and Prepare Environmental Impact Statement; Vistra Operations '\n    'Company LLC; Comanche Peak Nuclear Power Plant, Units 1 and 2',\n    'Comment (1272) of Carol Gay on Notice of Intent To Conduct Scoping '\n    'Process and Prepare Environmental Impact Statement; Vistra Operations '\n    'Company LLC; Comanche Peak Nuclear Power Plant, Units 1 and 2',\n    'Comment (1273) of Mindy Maxwell on Notice of Intent To Conduct Scoping '\n    'Process and Prepare Environmental Impact Statement; Vistra Operations '\n    'Company LLC; Comanche Peak Nuclear Power Plant, Units 1 and 2',\n    'Comment (1274) of Hillary Ostrow on Notice of Intent To Conduct Scoping '\n    'Process and Prepare Environmental Impact Statement; Vistra Operations '\n    'Company LLC; Comanche Peak Nuclear Power Plant, Units 1 and 2',\n    'Comment (1275) of Mary Shaughnessy on Notice of Intent To Conduct Scoping '\n    'Process and Prepare Environmental Impact Statement; Vistra Operations '\n    'Company LLC; Comanche Peak Nuclear Power Plant, Units 1 and 2',\n    'Comment (1276) of Jeff Czach on Notice of Intent To Conduct Scoping '\n    'Process and Prepare Environmental Impact Statement; Vistra Operations '\n    'Company LLC; Comanche Peak Nuclear Power Plant, Units 1 and 2',\n    'Comment (1277) of Nicholas Prychodko on Notice of Intent To Conduct '\n    'Scoping Process and Prepare Environmental Impact Statement; Vistra '\n    'Operations Company LLC; Comanche Peak Nuclear Power Plant, Units 1 and 2',\n    'Comment (1278) of Esther Prexl on Notice of Intent To Conduct Scoping '\n    'Process and Prepare Environmental Impact Statement; Vistra Operations '\n    'Company LLC; Comanche Peak Nuclear Power Plant, Units 1 and 2',\n    'Comment (1279) of Michael W Evans on Notice of Intent To Conduct Scoping '\n    'Process and Prepare Environmental Impact Statement; Vistra Operations '\n    'Company LLC; Comanche Peak Nuclear Power Plant, Units 1 and 2',\n    'Comment (1280) of Michael Letendre on Notice of Intent To Conduct Scoping '\n    'Process and Prepare Environmental Impact Statement; Vistra Operations '\n    'Company LLC; Comanche Peak Nuclear Power Plant, Units 1 and 2',\n    'Comment (1281) of Geri Collecchia on Notice of Intent To Conduct Scoping '\n    'Process and Prepare Environmental Impact Statement; Vistra Operations '\n    'Company LLC; Comanche Peak Nuclear Power Plant, Units 1 and 2',\n    'Comment (1282) of Kristi Collins on Notice of Intent To Conduct Scoping '\n    'Process and Prepare Environmental Impact Statement; Vistra Operations '\n    'Company LLC; Comanche Peak Nuclear Power Plant, Units 1 and 2',\n    'Comment (1283) of William Ryerson on Notice of Intent To Conduct Scoping '\n    'Process and Prepare Environmental Impact Statement; Vistra Operations '\n    'Company LLC; Comanche Peak Nuclear Power Plant, Units 1 and 2',\n    'Comment (1284) of Laurence Kirby on Notice of Intent To Conduct Scoping '\n    'Process and Prepare Environmental Impact Statement; Vistra Operations '\n    'Company LLC; Comanche Peak Nuclear Power Plant, Units 1 and 2',\n    'Comment (1285) of Jennifer Smith on Notice of Intent To Conduct Scoping '\n    'Process and Prepare Environmental Impact Statement; Vistra Operations '\n    'Company LLC; Comanche Peak Nuclear Power Plant, Units 1 and 2',\n    'Comment (1286) of Bob Farrell on Notice of Intent To Conduct Scoping '\n    'Process and Prepare Environmental Impact Statement; Vistra Operations '\n    'Company LLC; Comanche Peak Nuclear Power Plant, Units 1 and 2',\n    'Comment (1287) of Kristina Heiks on Notice of Intent To Conduct Scoping '\n    'Process and Prepare Environmental Impact Statement; Vistra Operations '\n    'Company LLC; Comanche Peak Nuclear Power Plant, Units 1 and 2',\n    'Comment (1288) of Candy Bowman on Notice of Intent To Conduct Scoping '\n    'Process and Prepare Environmental Impact Statement; Vistra Operations '\n    'Company LLC; Comanche Peak Nuclear Power Plant, Units 1 and 2',\n    'Comment (1289) of Nancy McRae on Notice of Intent To Conduct Scoping '\n    'Process and Prepare Environmental Impact Statement; Vistra Operations '\n    'Company LLC; Comanche Peak Nuclear Power Plant, Units 1 and 2',\n    'Comment (1290) of Nancy Enkiri on Notice of Intent To Conduct Scoping '\n    'Process and Prepare Environmental Impact Statement; Vistra Operations '\n    'Company LLC; Comanche Peak Nuclear Power Plant, Units 1 and 2',\n    'Comment (1291) of Victoria Loudis on Notice of Intent To Conduct Scoping '\n    'Process and Prepare Environmental Impact Statement; Vistra Operations '\n    'Company LLC; Comanche Peak Nuclear Power Plant, Units 1 and 2',\n    'Comment (1292) of Henry Schwartzman on Notice of Intent To Conduct '\n    'Scoping Process and Prepare Environmental Impact Statement; Vistra '\n    'Operations Company LLC; Comanche Peak Nuclear Power Plant, Units 1 and 2',\n    'Comment (1293) of Karen Bonnell on Notice of Intent To Conduct Scoping '\n    'Process and Prepare Environmental Impact Statement; Vistra Operations '\n    'Company LLC; Comanche Peak Nuclear Power Plant, Units 1 and 2',\n    'Comment (1294) of Bonita Shea on Notice of Intent To Conduct Scoping '\n    'Process and Prepare Environmental Impact Statement; Vistra Operations '\n    'Company LLC; Comanche Peak Nuclear Power Plant, Units 1 and 2',\n    'Comment (1295) of Elmo Dunn on Notice of Intent To Conduct Scoping '\n    'Process and Prepare Environmental Impact Statement; Vistra Operations '\n    'Company LLC; Comanche Peak Nuclear Power Plant, Units 1 and 2',\n    'Comment (1296) of Gregory Freeman on Notice of Intent To Conduct Scoping '\n    'Process and Prepare Environmental Impact Statement; Vistra Operations '\n    'Company LLC; Comanche Peak Nuclear Power Plant, Units 1 and 2',\n    'Comment (1297) of David Christman on Notice of Intent To Conduct Scoping '\n    'Process and Prepare Environmental Impact Statement; Vistra Operations '\n    'Company LLC; Comanche Peak Nuclear Power Plant, Units 1 and 2',\n    'Comment (1298) of Mark Meeks on Notice of Intent To Conduct Scoping '\n    'Process and Prepare Environmental Impact Statement; Vistra Operations '\n    'Company LLC; Comanche Peak Nuclear Power Plant, Units 1 and 2',\n    'Comment (1299) of Dennis Ledden on Notice of Intent To Conduct Scoping '\n    'Process and Prepare Environmental Impact Statement; Vistra Operations '\n    'Company LLC; Comanche Peak Nuclear Power Plant, Units 1 and 2',\n    'Comment (1300) of Kate Skolnick on Notice of Intent To Conduct Scoping '\n    'Process and Prepare Environmental Impact Statement; Vistra Operations '\n    'Company LLC; Comanche Peak Nuclear Power Plant, Units 1 and 2',\n    'Comment (1301) of Ellen McCann on Notice of Intent To Conduct Scoping '\n    'Process and Prepare Environmental Impact Statement; Vistra Operations '\n    'Company LLC; Comanche Peak Nuclear Power Plant, Units 1 and 2',\n    'Comment (1302) of Neil Farbstein on Notice of Intent To Conduct Scoping '\n    'Process and Prepare Environmental Impact Statement; Vistra Operations '\n    'Company LLC; Comanche Peak Nuclear Power Plant, Units 1 and 2',\n    'Comment (1303) of Kenneth Ruby on Notice of Intent To Conduct Scoping '\n    'Process and Prepare Environmental Impact Statement; Vistra Operations '\n    'Company LLC; Comanche Peak Nuclear Power Plant, Units 1 and 2',\n    'Comment (1305) of T. Cassidy on Notice of Intent To Conduct Scoping '\n    'Process and Prepare Environmental Impact Statement; Vistra Operations '\n    'Company LLC; Comanche Peak Nuclear Power Plant, Units 1 and 2',\n    'Comment (1306) of Thomas Gilmore on Notice of Intent To Conduct Scoping '\n    'Process and Prepare Environmental Impact Statement; Vistra Operations '\n    'Company LLC; Comanche Peak Nuclear Power Plant, Units 1 and 2',\n    'Comment (1307) of Mary Froehlich on Notice of Intent To Conduct Scoping '\n    'Process and Prepare Environmental Impact Statement; Vistra Operations '\n    'Company LLC; Comanche Peak Nuclear Power Plant, Units 1 and 2',\n    'Comment (1308) of Peter Ayres on Notice of Intent To Conduct Scoping '\n    'Process and Prepare Environmental Impact Statement; Vistra Operations '\n    'Company LLC; Comanche Peak Nuclear Power Plant, Units 1 and 2',\n    'Comment (1309) of Cathy Wootan on Notice of Intent To Conduct Scoping '\n    'Process and Prepare Environmental Impact Statement; Vistra Operations '\n    'Company LLC; Comanche Peak Nuclear Power Plant, Units 1 and 2',\n    'Comment (1310) of Karyn Deibel on Notice of Intent To Conduct Scoping '\n    'Process and Prepare Environmental Impact Statement; Vistra Operations '\n    'Company LLC; Comanche Peak Nuclear Power Plant, Units 1 and 2',\n    'Comment (1311) of Oleh Sydor on Notice of Intent To Conduct Scoping '\n    'Process and Prepare Environmental Impact Statement; Vistra Operations '\n    'Company LLC; Comanche Peak Nuclear Power Plant, Units 1 and 2',\n    'Comment (1312) of Rebecca Ramsay on Notice of Intent To Conduct Scoping '\n    'Process and Prepare Environmental Impact Statement; Vistra Operations '\n    'Company LLC; Comanche Peak Nuclear Power Plant, Units 1 and 2',\n    'Comment (1313) of Rosemary Maziarz on Notice of Intent To Conduct Scoping '\n    'Process and Prepare Environmental Impact Statement; Vistra Operations '\n    'Company LLC; Comanche Peak Nuclear Power Plant, Units 1 and 2',\n    'Comment (1314) of Christine Schmitthenner on Notice of Intent To Conduct '\n    'Scoping Process and Prepare Environmental Impact Statement; Vistra '\n    'Operations Company LLC; Comanche Peak Nuclear Power Plant, Units 1 and 2',\n    'Comment (1315) of Peter Mitchell on Notice of Intent To Conduct Scoping '\n    'Process and Prepare Environmental Impact Statement; Vistra Operations '\n    'Company LLC; Comanche Peak Nuclear Power Plant, Units 1 and 2',\n    'Comment (1316) of Rick Hartley on Notice of Intent To Conduct Scoping '\n    'Process and Prepare Environmental Impact Statement; Vistra Operations '\n    'Company LLC; Comanche Peak Nuclear Power Plant, Units 1 and 2',\n    'Comment (1317) of Laura Chinofsky on Notice of Intent To Conduct Scoping '\n    'Process and Prepare Environmental Impact Statement; Vistra Operations '\n    'Company LLC; Comanche Peak Nuclear Power Plant, Units 1 and 2',\n    'Comment (1318) of Alexandra Barnard on Notice of Intent To Conduct '\n    'Scoping Process and Prepare Environmental Impact Statement; Vistra '\n    'Operations Company LLC; Comanche Peak Nuclear Power Plant, Units 1 and 2',\n    'Comment (1319) of Ellen Gutfleisch on Notice of Intent To Conduct Scoping '\n    'Process and Prepare Environmental Impact Statement; Vistra Operations '\n    'Company LLC; Comanche Peak Nuclear Power Plant, Units 1 and 2',\n    'Comment (1320) of John Cruz on Notice of Intent To Conduct Scoping '\n    'Process and Prepare Environmental Impact Statement; Vistra Operations '\n    'Company LLC; Comanche Peak Nuclear Power Plant, Units 1 and 2',\n    'Comment (1321) of Eric Lewis on Notice of Intent To Conduct Scoping '\n    'Process and Prepare Environmental Impact Statement; Vistra Operations '\n    'Company LLC; Comanche Peak Nuclear Power Plant, Units 1 and 2',\n    'Comment (1322) of Arshad Ameen on Notice of Intent To Conduct Scoping '\n    'Process and Prepare Environmental Impact Statement; Vistra Operations '\n    'Company LLC; Comanche Peak Nuclear Power Plant, Units 1 and 2',\n    'Comment (1323) of Nan Stevenson on Notice of Intent To Conduct Scoping '\n    'Process and Prepare Environmental Impact Statement; Vistra Operations '\n    'Company LLC; Comanche Peak Nuclear Power Plant, Units 1 and 2',\n    'Comment (1324) of Joan Balfour on Notice of Intent To Conduct Scoping '\n    'Process and Prepare Environmental Impact Statement; Vistra Operations '\n    'Company LLC; Comanche Peak Nuclear Power Plant, Units 1 and 2',\n    'Comment (1325) of Suzanne Chaffee on Notice of Intent To Conduct Scoping '\n    'Process and Prepare Environmental Impact Statement; Vistra Operations '\n    'Company LLC; Comanche Peak Nuclear Power Plant, Units 1 and 2',\n    'Comment (3) of Santora Taylor on Draft Regulatory Guide: Perimeter '\n    'Intrusion Alarm Systems',\n    'Correcetd Copy MH Global Sourcing, LLC, E-License A1 March 2023',\n    'Corrected Copy Cover Letter MH Global A1 March 2023 (MCN 633921)',\n    'Cover Letter - Revalidation Recommendation for the United Kingdom '\n    'Certificate of Approval No. GB 4120 B U Rev 0 for the Model No. DPR 200 '\n    'Pkg, Docket No. 71-3102',\n    'Cover Letter: Certificate of Compliance No. 9388, Rev. No. 0, for the '\n    'Model No. DN30-X Package',\n    'DLZ Corporation, NRC Form 591M and 592M, Inspection Report '\n    '03018110/2023001 (DRSS)',\n    'Decommissioning Funding Status Report for Fermi 1',\n    'Deemed Timely Letter for Memorial Hospital and Health Care Center, '\n    'License No. 13-09274-03',\n    'Deemed Timely Letter for Soils & Structures, Inc., License No. '\n    '21-26469-01',\n    'Department of the Army, NRC Form 591M Part 1, Inspection Report Number '\n    '03037133/2021001',\n    'Diablo Canyon Post-Shutdown Decommissioning Activities Report Public '\n    'Meeting Transcript, Pages 1-132, July 21, 2022',\n    'Dresden, Unit 3, Current Facility Operating License DPR-25, Revised '\n    '04/03/2023.',\n    'Duane Arnold Energy Center - 10 CFR 50.59 Report, Commitment Changes, 10 '\n    'CFR 72.48 Report, Quality Assurance Program Changes, Technical '\n    'Specification Basis Changes, and Revision of the DAEC Defueled Safety '\n    'Analysis Report',\n    'EPA Email - Monday Meeting Proposed Agenda',\n    'Enclosure - Second Request for Additional Information 2023 HI-STAR 80 '\n    'Rev.2',\n    'Enclosure - U.S. Nuclear Regulatory Commission Nuclear Waste Fund '\n    'Expenditures for February 2023',\n    'Enclosure 1: GEH Supplemental Information for NTR License Renewal '\n    'Application',\n    'Enclosure 1: NRC NTR License Renewal Audit Questions',\n    'Enclosure 2: NEDO 32765, Revision 6, \"Technical Specifications for the '\n    'Nuclear Test Reactor Facility R-33\"',\n    'Enclosure 2: VNC Radiological Emergency Plan Revision 1',\n    'Enclosure 4: NEDO 32740, Revision 5, \"General Electric Nuclear Test '\n    'Reactor Safety Report (Public)\"',\n    'Examination Report No 50-407/OL-23-01 University of Utah',\n    'Examination Results Letter No. 50-407/OL-23-01, University of Utah',\n    'Export License Application from RSB Logistic Inc. XSOU8798/10',\n    'FAQ 23-01 Revision 1 Proposed Response',\n    'Farley Nuclear Plant, Units 1 and 2 – Security Baseline Inspection Report '\n    '05000348/2023401 and 05000364/2023401',\n    'Farley Units 1 and 2 - Final Significance Determination for a '\n    'Security-Related Greater than Green Finding, NOV and Assessment Followup, '\n    'IR 05000348/2023440 and 05000364/2023440 - Cover',\n    'GE-Hitachi Nuclear Energy Americas, LLC, Nuclear Test Reactor Safety '\n    'Analysis Report and Technical Specifications',\n    'GE-Hitachi Nuclear Energy Americas, LLC, Public Docketing of Information '\n    'Relating to GE Nuclear Test Reactor License Renewal',\n    'GL Registration Form from LA Colombe Torrefaction',\n    'GL Registration from Audubon Materials, LLC',\n    'GL Report from University Delaware Regarding Transfer of Devices',\n    'Georgetown University, NRC Form 591M Part 1, Inspection Report '\n    '03013627/2023001',\n    'Greenbrier Valley Medical Center; License Amendment Request Letter dated '\n    '01/05/23',\n    'Heightened Oversight and Monitoring',\n    'Homestake Mining Company of California - Grants Reclamation Project  - '\n    'Request for an Updated Schedule on the Application for Alternate '\n    'Concentration Limits Acceptance Review, Radioactive Materials License',\n    'Hope Creek, Salem, Units 1 and 2, Peach Bottom, Units 2 and 3,Report on '\n    'Status of Decommissioning Funding for Reactors and Independent Spent Fuel '\n    'Storage Installations',\n    'Howard University, NRC Form 591M Part 1, Inspection Report Number '\n    '03011063/2023001',\n    'IR 03037307/2023001(DRSS) - NRC Form 591M and 592M NLMK Indiana',\n    'ITAAC Closure Notification on Completion of ITAAC 2.5.06.02 [Index Number '\n    '574]',\n    'ITAAC Closure Verification Evaluation Form (VEF) for ITAAC Number '\n    '2.7.03.03 (Index No. 710) for Vogtle Unit 4 Combined License (VOG4)',\n    'Kewaunee Solutions, Inc., Request for Exemptions from 10 CFR '\n    '50.82(a)(8)(i)(A) and 50.75(h)(1)(iv) for Site Restoration Activities',\n    'LACBWR License Transfer Conforming Amendment Issuance',\n    'LER 2023-001-00 for Browns Ferry Nuclear Plant, Unit 1, High Pressure '\n    'Coolant Injection System Inoperable Due to a Torn Valve Diaphragm',\n    'Lee Hy Paving Corporation, NRC Form 591M Part 1, Inspection Report '\n    '03030308/2022001',\n    'Letter from JSmith, to Bill Halliburton, Acceptance Letter for Review of '\n    'License Amendment Request Dated, October 7, 2022, Docket No 07000725, '\n    'License SNM-928',\n    'Letter to the Executive Branch Notifying the EB of the Issuance of '\n    'XCOM1202-03',\n    'Letter to the Executive Branch Requesting Assurances for XSNM3806-02',\n    'Letter to the Executive Branch Requesting Executive Branch Views for '\n    'Export License Application XCOM1358',\n    'License Amendment to Braidwood Station, Units 1 and 2, Technical '\n    'Specification 3.7.9, \"Ultimate Heat Sink\"',\n    'Limerick 1 and 2 - Acceptance of Requested Licensing Action for License '\n    'Amendment Request to Support Digital Modernization Project Installation',\n    'Limerick 1 and 2 – Acceptance of Requested Licensing Action for Exemption '\n    'Request to Support Digital Modernization Project Installation (EPID '\n    'L-2023-LLE-0005)',\n    'Limerick Generating Station, Units 1 and 2 - Summary of Regulatory Audit '\n    'in Support of Alternate Processes for Risk-Informed Categorization and '\n    'Treatment of Structures, Systems and Components for Nuclear Power '\n    'Reactors (EPID L-2021-LLA-0042)',\n    'Mayaguez Medical Center, NRC Form 591M Part 1, Inspection Report Number '\n    '03037760/2023001',\n    'McGuire 50.69 Acceptance email',\n    'Memo RIL Transmittal Background Seismicity',\n    \"Michigan Attorney General's Post Hearing Statement of Position (Redacted)\",\n    'MidAmerican Nuclear Energy Co., Decommissioning Funding Status Report '\n    'Pursuant to 10 CFR 50.75(f)(l), Including ISFSI Decommissioning Funding '\n    '(10 CFR 72.30)',\n    'Mountaineer Contractors, Inc. - NRC Inspection No. 03015246/2023001 and '\n    'Notice of Violation',\n    'Mountaineer Contractors, Inc. – Request for Additional Information dtd '\n    'March 21, 2023, MC 634620',\n    'Mountaineer Contractors, Inc. – Response to Request for Additional '\n    'Information dtd March 22, 2023, MC 634620',\n    'NRC Form 313A (AMP), Authorized Medical Physicist or Ophthalmic '\n    'Physicist, Training, Experience and Preceptor Attestation [10 CFR 35.51, '\n    '35.57(a)(3), and 35.433]. (01-2020)',\n    'NRC Form 748 - National Source Tracking Transactions Report',\n    'NRC Form 748A - Report Source Inventory National Source Tracking '\n    'Transaction Report',\n    'NRC Form 748B - Transfer Source National Source Tracking Transaction '\n    'Report',\n    'NRC Form 748C - Receive Source National Source Tracking Transaction '\n    'Report',\n    'NRC Form 748D - Dispose Source National Source Tracking Transaction '\n    'Report',\n    'NRC Form 748E - New Source Manufactured National Source Tracking '\n    'Transaction Report',\n    'NRC Form 748F - Import Source National Source Tracking Transaction Report',\n    'NRC Form 748G - Export Source National Source Tracking Transaction Report',\n    'NRC Form 748H - Disassemble Source National Source Tracking Transaction '\n    'Report',\n    'NRC Form 755 - Advance Notification to the NRC of Shipments of Category 1 '\n    'Quantities of Radioactive Material.',\n    'NRC Form 790 - Classification Record',\n    'NRC Form 830 - Report of Import',\n    'NRC Form 830A - Report of Import Continuation Sheet',\n    'NRC Form 831 - Report of Export',\n    'NRC Form 831A - Report of Export Continuation Sheet',\n    'NRC Letter for February 1, 2023, Onsite Observation Visit for the SRS '\n    'Saltstone Disposal Facility',\n    'NRC Report for February 1, 2023, Onsite Observation Visit for the SRS '\n    'Saltstone Disposal Facility',\n    'NRC Staff Hearing File Update 165',\n    'NRC Staff Quarterly Status Update 20',\n    'NRC-2022-0145- NEI Official Comment Attachment on 10 CFR Part 21 '\n    'Information Collection Renewal',\n    'Nine Mile Point Nuclear Station, Unit 1, Submittal of Emergency Relief '\n    'Request I5R-11 Concerning the Installation of a Weld Overlay on Reactor '\n    'Pressure Vessel Recirculation Inlet Nozzle N2E Safe End-to-Nozzle '\n    'Dissimilar Metal Weld (32-WD-208)',\n    'Nine Mile Point Nuclear Station, Unit 1, Submittal of Emergency Relief '\n    'Request I5R-11 Concerning the Installation of a Weld Overlay on Reactor '\n    'Pressure Vessel Recirculation Inlet Nozzle N2E Safe End-to-Nozzle '\n    'Dissimilar Metal Weld (32-WD-208)',\n    'Nine Mile Point Nuclear Station, Unit No. 1 - E-mail from T. Loomis to R. '\n    'Guzman re: Proposed Alternative to Utilize Specific Provisions of Code '\n    'Case N-716-3 (EPID L-2023-LLR-0012)',\n    'Notice of Appearance for Diane Curran',\n    'Notice of Intent to Pursue Subsequent License Renewal for H. B. Robinson '\n    'Steam Electric Plant, Unit Number 2',\n    'NuScale Power, LLC, Submittal on Behalf of CFPP LLC Carbon Free Power '\n    'Project (CFPP) Combined License Application Entitled \"Carbon Free Power '\n    'Project Combined License Application Presentation, Physical Security,\" '\n    'PM-137619-P, Revision',\n    'Nuclear Energy Institute - Transmittal of NEI 22-05 Revision A, '\n    '“Technology Inclusive Risk Informed Change Evaluation (TIRICE) Guidance '\n    'for the Evaluation of Changes to Facilities Utilizing NEI 18-04 and NEI '\n    '21-07”',\n    'Oconee Nuclear Station, Unit 3 - Request for Additional Information RE: '\n    'Steam Generator Tube Inspection Report (03R31) (EPID: L-2022-LRO-0152)',\n    'Ohio FY21 IMPEP Periodic Meeting Summary',\n    'Operator Licensing Examination Approval - Dresden Nuclear Power Station, '\n    'April 2023',\n    'Oyster Creek, Pilgrim, Indian Point, Palisades, and Big Rock, Report on '\n    'Status of Decommissioning Funding for Reactors and Independent Spent Fuel '\n    'Storage Installations',\n    'Palo Verde Nuclear Generating Station Units 1, 2, and 3 - Consolidated '\n    'Decommissioning Funding Status Report - 2022',\n    'Palo Verde Plant, Units 1, 2, and 3 - April 5, 2023, Presubmittal Meeting '\n    'Presentation - Containment Temperature and Safety Injection Tank Volume '\n    'Requirements LAR (EPID L-2023-LRM-0016)',\n    'Peach Bottom Atomic Power Station, Units 2 and 3 - Licensee Presentation '\n    'on WHR Exemption Request for Public Meeting on April 11, 2023 (EPID '\n    'L-2023-LRM-0021)',\n    'Peak Laboratories, Inc., Reply to Notice of Violation NRC Inspection '\n    'Report 03037954/2022001',\n    'Point Beach Nuclear Plant, Units 1 and 2 - NRC Initial Examination Report '\n    '05000266/2023301 and 05000301/2023301',\n    'Pole Brothers Imaging Company, LLC, License Cover Letter for Termination, '\n    'Mail Control No. 634681',\n    'Pole Brothers Imaging Company, LLC, License Termination, Mail Control No. '\n    '634681',\n    'Portland General Electric Co. - Annual Report of Individual Occupational '\n    'Radiation Dose Monitoring',\n    'Portland General Electric Company - Annual Report of Individual '\n    'Occupational Radiation Dose Monitoring',\n    'Prairie Island Nuclear Generating Plant, Units 1 and 2, Monticello '\n    'Nuclear Generating Plant, Guarantee of Payment of Deferred Premiums',\n    'Pre-Application iPWR PIRT Report for NuScale-like Design',\n    'Presentation - April 4, 2023 Licensing Review Framework for Advanced '\n    'Reactors I&C Workshop 2',\n    'RG 1.23 Rev 1 Periodic Review March 2023',\n    'RIC 2023: T3 Setting a Course for the Future of EP',\n    'RIL 2023-03: Magnitude Conversion and Earthquake Recurrence Rate Models '\n    'for the Central and Eastern United States',\n    'Request for Extension on Homestake 2023 Financial Surety In Accordance '\n    'with Nuclear Regulatory Commission',\n    'Response to Request for an Extension of the Comment Period of Renewing '\n    'Nuclear Power Plant Operating Licenses-Environmental Review, Docket ID '\n    'NRC-2018-0296, 88 Fed. Reg. 13,329 (March 3, 2023).',\n    'Revalidation Recommendation for the United Kingdom Certificate of '\n    'Approval No. GB/4120/B(U), Revision 0 for the Model No. DPR 200 Package, '\n    'Docket No. 71-3102',\n    'SECY-23-0021: Enclosure 1 - Proposed Rule Federal Register Notice',\n    'SRN-19-0082.0, Rev. 0, \"CLSM Proposed TCS Hydraulic Conductivity Test\"',\n    'SRNL-STI-2021-00187, Rev. 0, \"Corrosion of Steel During Long-Term '\n    'Exposure to Evolving Cementitious Environments\"',\n    'SRR-CWDA-2021-00043, Rev. 0, \"Erosion Analysis for the FTF and HFT '\n    'Facilities\"',\n    'SRR-CWDA-2021-0076, Rev. 1, \"Evaluation of the Uncertainties Associated '\n    'with the F-Area and H-Area Tank Farm Closure Caps and Long-Term '\n    'Infiltration Rates\"',\n    'STC-23-022 Notification of Acceptance to the Advanced Health Physics '\n    '(H-201) Course - Chattanooga, TN: June 5-9, 2023',\n    'SWP-EPP-01, Emergency Response Organization and Training',\n    'Safety Evaluation Report for Revision No. 0 of the Certificate of '\n    'Compliance No. 9388',\n    \"Saint Luke's Memorial Hospital, Inc., ltr dated January 26, 2023, RE: \"\n    'Request for Additional Information',\n    \"San Jorge Children's Hospital, NRC Form 591M Part 1, Inspection Report \"\n    'Number 03034319/2022001',\n    'Seabrook Station, Unit No. 1 - Presubmittal Meeting Slides for March 7, '\n    '2023, Public Meeting (EPID L-2023-LRM-0013)',\n    'Second Request For Additional Information For The Review Of The Model No. '\n    'Hi-Star 80 Package',\n    'Security Containers for Storing Safeguards Information',\n    'Shearon Harris Nuclear Plant, Unit 1 - Security Baseline Inspection '\n    'Report 05000400/023401 (Cover Letter)',\n    'St. Lucie Nuclear Plant, Units 1 and 2, Subsequent License Renewal '\n    'Application - Aging Management Requests for Additional Information Set 4',\n    'St. Lucie Units 1 and 2 - Periodic Update of Population Data Within 10 '\n    'and 50 miles of the Plant',\n    'Summary of February 23, 2023, with Constellation Energy Generation, LLC '\n    'on Proposed Changes to Emergency Plans to Revise Emergency Action Levels '\n    '(EPID L-2023-LRM-0009)',\n    'Summary of March 7, 2023, Meeting with Nextera Energy Seabrook, LLC '\n    'Regarding Planned Submittal of License Amendment Request to Revise '\n    'Emergency Action Level due to Modification to Containment Fire Detection '\n    'Equipment (EPID L-2023-LRM-0013)',\n    'Surry Power Station, Unit 1 - Steam Generator Tube Inspection Report for '\n    'the Fall 2022 Refueling Outage',\n    'TRISO-X fuel Fabrication Facility EIS RAI Part 1 Letter and Enclosure',\n    'The Potential for Criticality Following Disposal of Uranium at Low-Level '\n    'Waste Facilities. Uranium Blended With Soil.',\n    'Three Mile Island Unit 2 Supplement to License Amendment Request - '\n    'Proposed Changes to TMI-2 Possession Only License and Technical '\n    'Specifications',\n    'Turkey Point Units 3 and 4, St. Lucie Units 1 and 2, Seabrook Station, '\n    'and Point Beach Units 1 and 2, 10 CFR 50.46 Annual Reporting of Changes '\n    'to, or Errors in Emergency Core Cooling System Models or Applications',\n    'U.S. Department of Energy Office of Legacy Management Comments re License '\n    'Amendment Request for the Church Rock, New Mexico, Disposal Site',\n    'U.S. Environmental Protection Agency, National Analytical Radiation '\n    'Environmental Laboratory, License Amendment No. 54, Mail Control No. '\n    '632213',\n    'U.S. Environmental Protection Agency, National Analytical Radiation '\n    'Environmental Laboratory, License Renewal, Mail Control No. 632213',\n    'U.S. NRC Response to Questions Presented by the U.S. Environmental '\n    'Protection Agency in an Email Dated February 1, 2023, Regarding Potential '\n    'Impacts Of The EPA Rule Banning Decabde On The Nuclear Industry',\n    'UNC Church Rock, 2023 Annual Surety Update Submittal',\n    'US Dept. of Commerce, National Institute of Standards & Technology (NIST) '\n    '- Change of NCNR Director',\n    'Urenco USA - Notice Of Violation And Proposed Imposition Of Civil Penalty '\n    '- $70,000; NRC Inspection Report No. 07003103/2023006 And Exercise Of '\n    'Enforcement Discretion',\n    'Video Storyboard RIC 2023',\n    'Vogtle Electric Generating Plant Units 3 and 4, Request for License '\n    'Amendment: Relocation of TS 3.7.9, “Spent Fuel Pool Makeup Water Sources” '\n    '(LAR-23-003)',\n    'Vogtle Electric Generating Plant, Units 1 And 2 - NRC Inspection Report '\n    '05000424/2023090 And 05000425/2023090, And Investigation Report '\n    '2-2022-006; And Apparent Violation',\n    'Vogtle Electric Generating Plant, Units 1 and 2, Response to Request for '\n    'Additional Information Regarding License Amendment Request for '\n    'Alternative Source Term, TSTF-51, TSTF-471, and TSTF-490',\n    'Vogtle Unit 4 ITAAC Review Status Report 04/03/2023',\n    'Vogtle, Unit 4, Dashboard Report 4-3-2023',\n    'Vogtle, Units 1,2 - Regulatory Audit in Support of Review of the License '\n    'Amendment Request to Revise Technical Specification 1.1, \"Use and '\n    'Application Definitions,\" and to add Technical Specification 5.5.23, '\n    '\"Online Monitoring Program',\n    'Warren Radiology, P.C. - Change of Control for License No. 21-13388-02. '\n    'Dated 03/16/2023',\n    'Wayne State University - Amendment Request for License No. 21-00741-08',\n    'Withdrawal of Amendment Request Dated November 1, 2022 For The Stamford '\n    'Hospital, NRC License No. 06-06697-02, Mail Control No. 633563']\n"
     ]
    }
   ],
   "source": [
    "pp.pprint(sorted(doc_titles))"
   ]
  }
 ],
 "metadata": {
  "application/vnd.databricks.v1+notebook": {
   "dashboards": [],
   "language": "python",
   "notebookMetadata": {
    "pythonIndentUnit": 4
   },
   "notebookName": "Testing",
   "notebookOrigID": 43873049591408,
   "widgets": {}
  },
  "kernelspec": {
   "display_name": "Python 3 (ipykernel)",
   "language": "python",
   "name": "python3"
  },
  "language_info": {
   "codemirror_mode": {
    "name": "ipython",
    "version": 3
   },
   "file_extension": ".py",
   "mimetype": "text/x-python",
   "name": "python",
   "nbconvert_exporter": "python",
   "pygments_lexer": "ipython3",
   "version": "3.10.6"
  }
 },
 "nbformat": 4,
 "nbformat_minor": 0
}
