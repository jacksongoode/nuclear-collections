{
 "cells": [
  {
   "cell_type": "code",
   "execution_count": null,
   "metadata": {
    "application/vnd.databricks.v1+cell": {
     "cellMetadata": {
      "byteLimit": 2048000,
      "rowLimit": 10000
     },
     "inputWidgets": {},
     "nuid": "3631a96b-ae28-443c-ac2e-275004697c21",
     "showTitle": false,
     "title": ""
    },
    "tags": []
   },
   "outputs": [],
   "source": [
    "import requests\n",
    "import json\n",
    "import time\n",
    "import math\n",
    "from datetime import datetime, timedelta\n",
    "\n",
    "from pprint import PrettyPrinter\n",
    "pp = PrettyPrinter(indent=4)"
   ]
  },
  {
   "cell_type": "code",
   "execution_count": null,
   "metadata": {
    "application/vnd.databricks.v1+cell": {
     "cellMetadata": {
      "byteLimit": 2048000,
      "rowLimit": 10000
     },
     "inputWidgets": {},
     "nuid": "25363ec1-4751-40bf-96f8-617c00cacca6",
     "showTitle": false,
     "title": ""
    },
    "tags": []
   },
   "outputs": [],
   "source": [
    "url = 'https://adams.nrc.gov/wba/services/search/simple'\n",
    "\n",
    "headers = {\n",
    "    'User-Agent': 'Mozilla/5.0 (Macintosh; Intel Mac OS X 10.15; rv:109.0) Gecko/20100101 Firefox/112.0',\n",
    "    'Accept': '*/*',\n",
    "    'Accept-Language': 'en-US,en;q=0.5',\n",
    "    'Accept-Encoding': 'gzip, deflate, br',\n",
    "    'X-Requested-With': 'XMLHttpRequest',\n",
    "    'Content-Type': 'application/x-www-form-urlencoded; charset=UTF-8',\n",
    "    'Origin': 'https://adams.nrc.gov',\n",
    "    'DNT': '1',\n",
    "    'Connection': 'keep-alive',\n",
    "    'Referer': 'https://adams.nrc.gov/wba/',\n",
    "    'Sec-Fetch-Dest': 'empty',\n",
    "    'Sec-Fetch-Mode': 'cors',\n",
    "    'Sec-Fetch-Site': 'same-origin'\n",
    "}\n",
    "\n",
    "data = {\n",
    "    'start': '0',\n",
    "    'query': f'SELECT DocumentTitle, AccessionNumber, DocumentDate, PublishDatePARS FROM Document WHERE DocumentType IS NOT NULL',\n",
    "    'initial': 'true',\n",
    "    # 'sort': '$size',\n",
    "    # 'dir': 'ASC',\n",
    "    'fieldSet': 'pars',\n",
    "    'formatSet': 'default',\n",
    "    'limit': '1000',\n",
    "    'queryParams': '{}',\n",
    "    'dataProviderId': 'ce_bp8os_repository',\n",
    "    'operationId': 'advanced_search',\n",
    "    'filters': '{\"operation\": \"and\", \"operand\": []}'\n",
    "}\n",
    "\n",
    "cookies = {\n",
    "    'Cookie': 'ys-folder-view-tab-tree-holder=o%3Acollapsed%3Db%253A0; bm_sv=0688099B00A6C66EACAC987B6BECA3DB~YAAQJq08F80Eb6eHAQAAEa9/qhMYgwTLfMaIDwcEFTIx4oFAlzHxGMacl7RcyVWna13y2qwSkawES/g9QLYNg13ZG17235pk99E4/SpkT92HJITTONfv+iVheVmPCATs0CSmKdWxweMtAmLYp3HWighSc8+FbcibzRoBcJDtF0rOf+purNdKCdmwUhSWct6YFfNvI7IHUYy4PJ7K0OJJ658pERKUYQ5d9dU6qCmh82f2nEHTRBnQiYDuDns1Hw==~1; JSESSIONID=0000Ks0c6ZOMioQ-plvl9X9_qej:-1; ak_bmsc=27622EFEB2E5ABE08309E4F14A5C3044~000000000000000000000000000000~YAAQJq08F+cDb6eHAQAAPaF/qhNosQufgDyaivBTTjVG9LNi0tJjyXmEDxvXol+WdzmFwimlf6QaenPkAOGuIMyJj8RqGzdzY4MT/iMGtMFvdgv4q7LMb8LeA0EJmtN7CTZWGEXUFr2kEiRXMGt1MLqRoRYyB6JU5XBfctoD43tHH/khaSYY+tmNpPUYqEstYlLwjg3aqx0aJD3h0PN8elSv3dV2GpQMGJiL/gvecaQ/fPHuUD4g/qGKMmD2QKjRiE8o3reeZnRgKLaUmJAj2eROXtnbu/PfH/xWyG2jlfgKmknDH6FM/KdTBARFmL1U4M/eWsF+QD8gLE7LOEbtb7aUjllAz+MGWPM7KKFGJ69IehfcS1lRoCoQjR+LNw=='\n",
    "}\n",
    "\n",
    "def offset_data(data, start, end):\n",
    "    start = start.strftime('%Y%m%dT%H%M%S%Z') + 'Z'\n",
    "    end = end.strftime('%Y%m%dT%H%M%S%Z') + 'Z'\n",
    "    print(start, end)\n",
    "    data['query'] = f'SELECT * FROM Document WHERE (PublishDatePARS > {start}) AND (PublishDatePARS < {end}) AND DocumentType IS NOT NULL'\n",
    "    \n",
    "    return data\n",
    "\n",
    "def paginate(start, end, slide, headers, data, cookies):\n",
    "    start = datetime.strptime(start, '%Y-%m-%d')\n",
    "    end = datetime.strptime(end, '%Y-%m-%d')\n",
    "    \n",
    "    rel_start = start\n",
    "    time_difference = end.date() - start.date()\n",
    "    days = math.ceil(time_difference.days / slide)\n",
    "    \n",
    "    full_json = []\n",
    "    mod_data = data.copy()\n",
    "    \n",
    "    for _ in range(days):\n",
    "        # Update rel end\n",
    "        rel_end = rel_start + timedelta(days=slide)    \n",
    "\n",
    "        mod_data = offset_data(data, rel_start, rel_end)\n",
    "        response = requests.post(url, headers=headers, data=mod_data, cookies=cookies)\n",
    "        try:\n",
    "            resp_json = json.loads(response.text)\n",
    "        except Exception as e:\n",
    "            print(response.text)\n",
    "            raise(e)\n",
    "        \n",
    "        docs = resp_json['docs']\n",
    "        \n",
    "        if len(docs) > 0:\n",
    "            print(f\"Appended {len(docs)} to full!\")\n",
    "            full_json.extend(resp_json['docs'])\n",
    "        else:\n",
    "            print('Error', resp_json)\n",
    "\n",
    "        # Update rel start\n",
    "        rel_start = rel_start + timedelta(days=slide)\n",
    "        \n",
    "    return full_json"
   ]
  },
  {
   "cell_type": "code",
   "execution_count": null,
   "metadata": {
    "application/vnd.databricks.v1+cell": {
     "cellMetadata": {
      "byteLimit": 2048000,
      "rowLimit": 10000
     },
     "inputWidgets": {},
     "nuid": "daf84af7-a7d3-4228-b153-42d8307d51ca",
     "showTitle": false,
     "title": ""
    },
    "tags": []
   },
   "outputs": [],
   "source": [
    "docs_json = paginate('2023-01-01', '2023-04-01', 2, headers, data, cookies)"
   ]
  },
  {
   "cell_type": "code",
   "execution_count": null,
   "metadata": {
    "application/vnd.databricks.v1+cell": {
     "cellMetadata": {},
     "inputWidgets": {},
     "nuid": "c850aaf4-e992-4522-9ee3-bc8d67b56a24",
     "showTitle": false,
     "title": ""
    },
    "tags": []
   },
   "outputs": [],
   "source": [
    "with open('docs.json', 'w') as file:\n",
    "    json.dump(docs_json, file)"
   ]
  },
  {
   "cell_type": "code",
   "execution_count": null,
   "metadata": {
    "application/vnd.databricks.v1+cell": {
     "cellMetadata": {
      "byteLimit": 2048000,
      "rowLimit": 10000
     },
     "inputWidgets": {},
     "nuid": "2f9442e5-5594-41d8-91a2-3a57ff5b07d1",
     "showTitle": false,
     "title": ""
    },
    "tags": []
   },
   "outputs": [],
   "source": [
    "doc_titles = [doc['title'] for doc in docs_json]"
   ]
  },
  {
   "cell_type": "code",
   "execution_count": null,
   "metadata": {
    "application/vnd.databricks.v1+cell": {
     "cellMetadata": {
      "byteLimit": 2048000,
      "rowLimit": 10000
     },
     "inputWidgets": {},
     "nuid": "9b06d4e0-193b-4bde-b6ca-ce59dd0f9133",
     "showTitle": false,
     "title": ""
    },
    "tags": []
   },
   "outputs": [],
   "source": [
    "pp.pprint(sorted(doc_titles))"
   ]
  }
 ],
 "metadata": {
  "application/vnd.databricks.v1+notebook": {
   "dashboards": [],
   "language": "python",
   "notebookMetadata": {
    "pythonIndentUnit": 4
   },
   "notebookName": "Testing",
   "notebookOrigID": 43873049591408,
   "widgets": {}
  },
  "kernelspec": {
   "display_name": "Python 3 (ipykernel)",
   "language": "python",
   "name": "python3"
  },
  "language_info": {
   "codemirror_mode": {
    "name": "ipython",
    "version": 3
   },
   "file_extension": ".py",
   "mimetype": "text/x-python",
   "name": "python",
   "nbconvert_exporter": "python",
   "pygments_lexer": "ipython3",
   "version": "3.10.6"
  }
 },
 "nbformat": 4,
 "nbformat_minor": 0
}
